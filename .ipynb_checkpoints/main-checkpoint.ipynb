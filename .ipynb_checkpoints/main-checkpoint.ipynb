{
 "cells": [
  {
   "cell_type": "code",
   "execution_count": null,
   "id": "30364f49-507a-474b-ac8c-bc60668a83d5",
   "metadata": {},
   "outputs": [],
   "source": [
    "#|default_exp main"
   ]
  },
  {
   "cell_type": "code",
   "execution_count": null,
   "id": "22c0675e-0de0-4e5f-a92b-a903b2f6874a",
   "metadata": {},
   "outputs": [],
   "source": [
    "!pip install -Uqq fastai"
   ]
  },
  {
   "cell_type": "code",
   "execution_count": null,
   "id": "63fa0ea9-142e-44ed-96fa-751e8dacc3ba",
   "metadata": {},
   "outputs": [],
   "source": [
    "!pip install gradio"
   ]
  },
  {
   "cell_type": "code",
   "execution_count": 13,
   "id": "7658cf93-38a8-4f3c-a773-ec7b7777652d",
   "metadata": {},
   "outputs": [],
   "source": [
    "#|export\n",
    "from fastai.vision.all import *\n",
    "import gradio as gr\n",
    "\n",
    "def is_cat(x): return x[0].isupper()"
   ]
  },
  {
   "cell_type": "code",
   "execution_count": null,
   "id": "9c6c2b95-2f0d-4ac5-8d9c-59b420ba8d8e",
   "metadata": {},
   "outputs": [],
   "source": [
    "path = untar_data(URLs.PETS)/'images'"
   ]
  },
  {
   "cell_type": "code",
   "execution_count": null,
   "id": "a892c11a-33bc-4947-a7b2-04237df332d8",
   "metadata": {},
   "outputs": [],
   "source": [
    "dls = ImageDataLoaders.from_name_func('.',\n",
    "                                     get_image_files(path), valid_pct=0.2, seed=42,\n",
    "                                     label_func=is_cat,\n",
    "                                     item_tfms=Resize(192))"
   ]
  },
  {
   "cell_type": "code",
   "execution_count": null,
   "id": "f48fabd4-d9dd-436d-8a0e-404316f8c35e",
   "metadata": {},
   "outputs": [],
   "source": [
    "learn = vision_learner(dls, resnet18, metrics=error_rate)\n",
    "learn.fine_tune(3)"
   ]
  },
  {
   "cell_type": "code",
   "execution_count": null,
   "id": "9dcbdbb4-9291-4483-b1cb-c6b6fe88c9f5",
   "metadata": {},
   "outputs": [],
   "source": [
    "learn.export('model.pkl')"
   ]
  },
  {
   "cell_type": "code",
   "execution_count": 24,
   "id": "1a83ccd5-ec38-4f03-b937-fabe5f9c63b1",
   "metadata": {},
   "outputs": [],
   "source": [
    "#|export\n",
    "learn = load_learner('model.pkl')"
   ]
  },
  {
   "cell_type": "code",
   "execution_count": 31,
   "id": "9a4418cc-4bb4-4e9c-9ae8-0ba1f42e7af7",
   "metadata": {},
   "outputs": [],
   "source": [
    "#|export\n",
    "categories = ('Dog', 'Cat')\n",
    "\n",
    "def classify(img):\n",
    "    pred,idx,probs = learn.predict(img)\n",
    "    return dict(zip(categories, map(float, probs)))"
   ]
  },
  {
   "cell_type": "code",
   "execution_count": 32,
   "id": "79085d0b-8db7-43d4-9da3-0d764c302888",
   "metadata": {},
   "outputs": [
    {
     "data": {
      "text/html": [],
      "text/plain": [
       "<IPython.core.display.HTML object>"
      ]
     },
     "metadata": {},
     "output_type": "display_data"
    },
    {
     "data": {
      "text/plain": [
       "{'Dog': 7.13838360467057e-19, 'Cat': 1.0}"
      ]
     },
     "execution_count": 32,
     "metadata": {},
     "output_type": "execute_result"
    }
   ],
   "source": [
    "classify('cat.jpg')"
   ]
  },
  {
   "cell_type": "code",
   "execution_count": 34,
   "id": "b1155832-5e29-4f88-aea4-85a6261bedfd",
   "metadata": {},
   "outputs": [
    {
     "name": "stdout",
     "output_type": "stream",
     "text": [
      "Running on local URL:  http://127.0.0.1:7863\n",
      "\n",
      "To create a public link, set `share=True` in `launch()`.\n"
     ]
    },
    {
     "data": {
      "text/plain": [
       "(<gradio.routes.App at 0x2c1fe464848>, 'http://127.0.0.1:7863/', None)"
      ]
     },
     "execution_count": 34,
     "metadata": {},
     "output_type": "execute_result"
    },
    {
     "data": {
      "text/html": [],
      "text/plain": [
       "<IPython.core.display.HTML object>"
      ]
     },
     "metadata": {},
     "output_type": "display_data"
    },
    {
     "data": {
      "text/html": [],
      "text/plain": [
       "<IPython.core.display.HTML object>"
      ]
     },
     "metadata": {},
     "output_type": "display_data"
    }
   ],
   "source": [
    "#|export\n",
    "image = gr.inputs.Image(shape=(192, 192))\n",
    "label = gr.outputs.Label()\n",
    "examples = ['dog.jpg', 'cat.jpg']\n",
    "\n",
    "intf = gr.Interface(fn=classify, inputs=image, outputs=label, examples=examples)\n",
    "intf.launch(inline=False)"
   ]
  },
  {
   "cell_type": "code",
   "execution_count": 23,
   "id": "419e727b-5fc0-4a19-94e3-7c9c9c8c22ad",
   "metadata": {},
   "outputs": [
    {
     "name": "stdout",
     "output_type": "stream",
     "text": [
      "Export successful\n"
     ]
    }
   ],
   "source": [
    "import nbdev\n",
    "nbdev.export.nb_export('main.ipynb', 'app')\n",
    "print('Export successful')"
   ]
  },
  {
   "cell_type": "code",
   "execution_count": null,
   "id": "b864b212-17a0-4737-a541-1ead7e3c762a",
   "metadata": {},
   "outputs": [],
   "source": []
  }
 ],
 "metadata": {
  "kernelspec": {
   "display_name": "Python 3 (ipykernel)",
   "language": "python",
   "name": "python3"
  },
  "language_info": {
   "codemirror_mode": {
    "name": "ipython",
    "version": 3
   },
   "file_extension": ".py",
   "mimetype": "text/x-python",
   "name": "python",
   "nbconvert_exporter": "python",
   "pygments_lexer": "ipython3",
   "version": "3.7.13"
  }
 },
 "nbformat": 4,
 "nbformat_minor": 5
}
